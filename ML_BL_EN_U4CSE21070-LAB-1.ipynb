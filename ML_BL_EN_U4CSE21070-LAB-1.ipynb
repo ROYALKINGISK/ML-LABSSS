{
  "nbformat": 4,
  "nbformat_minor": 0,
  "metadata": {
    "colab": {
      "provenance": []
    },
    "kernelspec": {
      "name": "python3",
      "display_name": "Python 3"
    },
    "language_info": {
      "name": "python"
    }
  },
  "cells": [
    {
      "cell_type": "code",
      "execution_count": 1,
      "metadata": {
        "colab": {
          "base_uri": "https://localhost:8080/"
        },
        "id": "bfiXtequqRUr",
        "outputId": "66bd908d-5fa8-4846-9262-748f98522add"
      },
      "outputs": [
        {
          "output_type": "stream",
          "name": "stdout",
          "text": [
            "WELCOME TO GOOGLE COLABORATORY\n",
            "==============================\n"
          ]
        }
      ],
      "source": [
        "print(\"WELCOME TO GOOGLE COLABORATORY\")\n",
        "print(\"==============================\")"
      ]
    },
    {
      "cell_type": "code",
      "source": [
        "import pandas as pd\n",
        "import numpy as np\n",
        "from matplotlib import pyplot as plt\n",
        "d1=pd.read_excel('Lab Session1 Data.xlsx',sheet_name='Purchase data')\n",
        "d2=pd.read_excel('Lab Session1 Data.xlsx',sheet_name='IRCTC Stock Price')\n",
        "d1.drop(d1.iloc[:,5:22],inplace=True,axis=1)\n",
        "A=d1.iloc[:,1:-1].values\n",
        "C=d1.iloc[:,-1].values\n",
        "A=np.array(A)\n",
        "C=np.array(C)\n",
        "print(\"Matrix of A:\")\n",
        "print(A)\n",
        "print(\"Matrix of C:\")\n",
        "print(C)\n",
        "rank=np.linalg.matrix_rank(A)\n",
        "print(\"Rank of Matrix A:\", rank)\n",
        "inverse=np.linalg.pinv(A)\n",
        "print(\"Inverse of Matrix A:\", inverse)\n",
        "product_costs = np.dot(inverse, C)\n",
        "print(\"The Cost Of Each Product\",product_costs)"
      ],
      "metadata": {
        "colab": {
          "base_uri": "https://localhost:8080/"
        },
        "id": "zOmQAE2zYu4O",
        "outputId": "65fb193d-6000-456e-afdd-ba6b2e175bb8"
      },
      "execution_count": 3,
      "outputs": [
        {
          "output_type": "stream",
          "name": "stdout",
          "text": [
            "Matrix of A:\n",
            "[[20  6  2]\n",
            " [16  3  6]\n",
            " [27  6  2]\n",
            " [19  1  2]\n",
            " [24  4  2]\n",
            " [22  1  5]\n",
            " [15  4  2]\n",
            " [18  4  2]\n",
            " [21  1  4]\n",
            " [16  2  4]]\n",
            "Matrix of C:\n",
            "[386 289 393 110 280 167 271 274 148 198]\n",
            "Rank of Matrix A: 3\n",
            "Inverse of Matrix A: [[-0.01008596 -0.03124505  0.01013951  0.0290728   0.0182907   0.01161794\n",
            "  -0.00771348  0.00095458  0.01743623 -0.00542016]\n",
            " [ 0.09059668  0.07263726  0.03172933 -0.09071908 -0.01893196 -0.06926996\n",
            "   0.05675464  0.03152577 -0.07641966  0.00357352]\n",
            " [ 0.00299878  0.15874243 -0.05795468 -0.06609024 -0.06295043  0.03348017\n",
            "   0.01541831 -0.01070461  0.00029003  0.05938755]]\n",
            "The Cost Of Each Product [ 1. 55. 18.]\n"
          ]
        }
      ]
    },
    {
      "cell_type": "markdown",
      "source": [
        "# New Section"
      ],
      "metadata": {
        "id": "s7RO2KAkR4OY"
      }
    },
    {
      "cell_type": "code",
      "source": [
        "#LAB-1 A4\n",
        "# Read the Excel data into a Pandas DataFrame\n",
        "df = pd.read_excel(r\"Lab Session1 Data.xlsx\",sheet_name=\"IRCTC Stock Price\")\n",
        "# Select the Price column\n",
        "price_data = df['Price']\n",
        "\n",
        "# Calculate the mean and variance of the Price column\n",
        "mean = np.mean(price_data)\n",
        "variance = np.var(price_data)\n",
        "print('Mean:', mean)\n",
        "print('Variance:', variance)\n",
        "\n",
        "# Select the price data for all Wednesdays\n",
        "wednesday_data = price_data[df['Day'] == 'Wed']\n",
        "#print(wednesday_data)\n",
        "# Calculate the sample mean\n",
        "sample_mean = np.mean(wednesday_data)\n",
        "print('Sample mean:', sample_mean)\n",
        "\n",
        "# Select the price data for the month of April\n",
        "april_data = price_data[df['Month'] == 'Apr']\n",
        "# Calculate the sample mean\n",
        "april_mean = np.mean(april_data)\n",
        "print('April mean:', april_mean)\n",
        "chg_data = df['Chg%']\n",
        "\n",
        "# Create a new column called 'is_loss' that indicates whether the stock price went up or down\n",
        "is_loss = np.where(chg_data > 0, False, True)\n",
        "\n",
        "# Calculate the probability of making a loss\n",
        "probability_of_loss = np.mean(is_loss)\n",
        "print('Probability of making a loss:', probability_of_loss)\n",
        "\n",
        "# Filter the data for Wednesdays\n",
        "wednesday_data = df[df['Day'] == 'Wed']\n",
        "\n",
        "# Calculate the probability of making a profit\n",
        "probability_of_profit_on_wednesday = np.mean(wednesday_data['Chg%'] > 0)\n",
        "print('Probability of making a profit on Wednesday:', probability_of_profit_on_wednesday)\n",
        "\n",
        "# Calculate the probability of it being a Wednesday\n",
        "probability_of_wednesday = np.mean(df['Day'] == 'Wed')\n",
        "\n",
        "# Calculate the conditional probability\n",
        "conditional_probability = probability_of_profit_on_wednesday / probability_of_wednesday\n",
        "\n",
        "print('Conditional probability of making a profit, given that today is Wednesday:', conditional_probability)\n",
        "# Create a scatter plot of Chg% vs Day\n",
        "\n",
        "plt.scatter(df['Day'], df['Chg%'])\n",
        "plt.xlabel('Day')\n",
        "plt.ylabel('Chg%')\n",
        "plt.title('Chg% vs Day')\n",
        "plt.show()"
      ],
      "metadata": {
        "colab": {
          "base_uri": "https://localhost:8080/",
          "height": 593
        },
        "id": "22O4PFFxg_91",
        "outputId": "27a1211f-8feb-4e54-caa3-12cbccd2538d"
      },
      "execution_count": null,
      "outputs": [
        {
          "output_type": "stream",
          "name": "stdout",
          "text": [
            "Mean: 1560.6634538152612\n",
            "Variance: 58496.49239931613\n",
            "Sample mean: 1550.7060000000001\n",
            "April mean: 1698.9526315789474\n",
            "Probability of making a loss: 0.5020080321285141\n",
            "Probability of making a profit on Wednesday: 0.42\n",
            "Conditional probability of making a profit, given that today is Wednesday: 2.0916\n"
          ]
        },
        {
          "output_type": "display_data",
          "data": {
            "text/plain": [
              "<Figure size 640x480 with 1 Axes>"
            ],
            "image/png": "[encoded data removed]"
          },
          "metadata": {}
        }
      ]
    },
    {
      "cell_type": "code",
      "source": [
        "#LAB-1 A3\n",
        "import pandas as pd\n",
        "from sklearn.model_selection import train_test_split\n",
        "from sklearn.preprocessing import StandardScaler\n",
        "from sklearn.ensemble import RandomForestClassifier\n",
        "from sklearn.metrics import classification_report\n",
        "\n",
        "# Load the data into a pandas DataFrame\n",
        "data_frame = pd.read_excel(r\"Lab Session1 Data.xlsx\", sheet_name=\"Purchase data\")\n",
        "df=data1=data_frame.iloc[0:10,0:5]\n",
        "\n",
        "# Create a new column 'Label' based on the Payment criterion\n",
        "df['Label'] = df['Payment (Rs)'].apply(lambda x: 'RICH' if x > 200 else 'POOR')\n",
        "print(df)\n",
        "# Separate features (X) and labels (y)\n",
        "X = df.drop(['Customer', 'Payment (Rs)', 'Label'], axis=1)\n",
        "y = df['Label']\n",
        "\n",
        "# Split data into training and testing sets\n",
        "X_train, X_test, y_train, y_test = train_test_split(X, y, test_size=0.2, random_state=42)\n",
        "\n",
        "# Feature scaling\n",
        "scaler = StandardScaler()\n",
        "X_train_scaled = scaler.fit_transform(X_train)\n",
        "X_test_scaled = scaler.transform(X_test)\n",
        "\n",
        "# Initialize and train a Random Forest Classifier\n",
        "model = RandomForestClassifier(random_state=42)\n",
        "model.fit(X_train_scaled, y_train)\n",
        "\n",
        "# Make predictions on the test data\n",
        "y_pred = model.predict(X_test_scaled)\n",
        "\n",
        "# Print classification report\n",
        "print(classification_report(y_test, y_pred))"
      ],
      "metadata": {
        "colab": {
          "base_uri": "https://localhost:8080/"
        },
        "id": "zISnx8wE-a2y",
        "outputId": "9ff20f46-92e1-42bf-d250-1f82298f1894"
      },
      "execution_count": null,
      "outputs": [
        {
          "output_type": "stream",
          "name": "stdout",
          "text": [
            "  Customer  Candies (#)  Mangoes (Kg)  Milk Packets (#)  Payment (Rs) Label\n",
            "0      C_1           20             6                 2           386  RICH\n",
            "1      C_2           16             3                 6           289  RICH\n",
            "2      C_3           27             6                 2           393  RICH\n",
            "3      C_4           19             1                 2           110  POOR\n",
            "4      C_5           24             4                 2           280  RICH\n",
            "5      C_6           22             1                 5           167  POOR\n",
            "6      C_7           15             4                 2           271  RICH\n",
            "7      C_8           18             4                 2           274  RICH\n",
            "8      C_9           21             1                 4           148  POOR\n",
            "9     C_10           16             2                 4           198  POOR\n",
            "              precision    recall  f1-score   support\n",
            "\n",
            "        POOR       1.00      1.00      1.00         1\n",
            "        RICH       1.00      1.00      1.00         1\n",
            "\n",
            "    accuracy                           1.00         2\n",
            "   macro avg       1.00      1.00      1.00         2\n",
            "weighted avg       1.00      1.00      1.00         2\n",
            "\n"
          ]
        }
      ]
    }
  ]
}